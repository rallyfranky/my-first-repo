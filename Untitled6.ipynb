{
  "nbformat": 4,
  "nbformat_minor": 0,
  "metadata": {
    "colab": {
      "provenance": [],
      "authorship_tag": "ABX9TyPerYeeabAsgt36eyFidcxm",
      "include_colab_link": true
    },
    "kernelspec": {
      "name": "python3",
      "display_name": "Python 3"
    },
    "language_info": {
      "name": "python"
    }
  },
  "cells": [
    {
      "cell_type": "markdown",
      "metadata": {
        "id": "view-in-github",
        "colab_type": "text"
      },
      "source": [
        "<a href=\"https://colab.research.google.com/github/rallyfranky/my-first-repo/blob/main/Untitled6.ipynb\" target=\"_parent\"><img src=\"https://colab.research.google.com/assets/colab-badge.svg\" alt=\"Open In Colab\"/></a>"
      ]
    },
    {
      "cell_type": "markdown",
      "source": [
        "ウェブ最適化　§5　バンディットアルゴリズム"
      ],
      "metadata": {
        "id": "bGLyOeZ_Gkj2"
      }
    },
    {
      "cell_type": "code",
      "execution_count": 7,
      "metadata": {
        "id": "5-5naE1NGeH6"
      },
      "outputs": [],
      "source": [
        "import numpy as np\n",
        "np.random.seed(0)#乱数シードの固定"
      ]
    },
    {
      "cell_type": "code",
      "source": [
        "n_arms = 4"
      ],
      "metadata": {
        "id": "OlpMV60cG0W0"
      },
      "execution_count": 8,
      "outputs": []
    },
    {
      "cell_type": "code",
      "source": [
        "class Env(object):\n",
        "  #各マシンの報酬の期待値\n",
        "  thetas = [0.1,0.1,0.2,0.3]\n",
        "\n",
        "  def react(arm):\n",
        "    #0-1の一様分布から取得した値がarmのthetasより小さい場合は報酬1を返す\n",
        "    return 1 if np.random.random() < Env.thetas[arm] else 0\n",
        "\n",
        "  def opt():\n",
        "    #最適解を示すインデックスを示す、配列内での最大値のインデックスを返す\n",
        "    return np.argmax(Env.thetas)"
      ],
      "metadata": {
        "id": "fqDOsAfhH6o5"
      },
      "execution_count": 9,
      "outputs": []
    },
    {
      "cell_type": "code",
      "source": [
        "class EpsilonGreedyAgent(object):\n",
        "  def __init__(self, epsilon = 0.1):\n",
        "    self.epsilon = epsilon\n",
        "    #n_armsの分だけ0がある配列を生成する\n",
        "    self.counts = np.zeros(n_arms)\n",
        "    #n_armsの分だけ0がある配列を生成する\n",
        "    self.values = np.zeros(n_arms)\n",
        "\n",
        "  def get_arm(self):\n",
        "    if np.random.random() < self.epsilon:\n",
        "      #n_armsより小さな整数をランダムに返す、どのマシンにするかを決める\n",
        "      arm = np.random.randint(n_arms)\n",
        "      #ランダム値が報酬の標本平均が最大となるarmを選ぶ\n",
        "    else:\n",
        "        arm = np.argmax(self.values)\n",
        "    return arm\n",
        "\n",
        "  def sample(self,arm,reward):\n",
        "    self.counts[arm] += 1#armを選んだ回数を1件追加\n",
        "    self.values[arm] = ((self.counts[arm] - 1) * self.values[arm] + reward)/self.counts[arm]#各マシンの報酬の標本平均"
      ],
      "metadata": {
        "id": "XyfwiJNqLDmZ"
      },
      "execution_count": 10,
      "outputs": []
    },
    {
      "cell_type": "markdown",
      "source": [
        "シミュレーション"
      ],
      "metadata": {
        "id": "fxlCzSqhW0fh"
      }
    },
    {
      "cell_type": "code",
      "source": [
        "def sim(Agent, N=1000, T=1000, **kwargs):\n",
        "  selected_arms = [[0 for _ in range(T)] for _ in range(N)]\n",
        "  earned_rewards = [[0 for _ in range(T)] for _ in range(N)]\n",
        "\n",
        "  for n in range(N):\n",
        "    agent = Agent(**kwargs)\n",
        "    for t in range(T):\n",
        "      arm = agent.get_arm()\n",
        "      reward = Env.react(arm)\n",
        "      agent.sample(arm,reward)\n",
        "      selected_arms[n][t] = arm\n",
        "      earned_rewards[n][t] = reward\n",
        "  return np.array(selected_arms), np.array(earned_rewards)"
      ],
      "metadata": {
        "id": "nj8y_dY6LEaZ"
      },
      "execution_count": 11,
      "outputs": []
    },
    {
      "cell_type": "code",
      "source": [
        "import matplotlib.pyplot as plt\n",
        "\n",
        "arms_eg, rewards_eg = sim(EpsilonGreedyAgent)\n",
        "acc = np.mean(arms_eg == Env.opt(), axis=0)\n",
        "\n",
        "plt.plot(acc)\n",
        "plt.xlabel(r'$t$')\n",
        "plt.ylabel('Comulative Reward')\n",
        "plt.legend()\n",
        "plt.grid()\n",
        "plt.show()"
      ],
      "metadata": {
        "colab": {
          "base_uri": "https://localhost:8080/",
          "height": 298
        },
        "id": "Va2jmuXYY23i",
        "outputId": "33dbd122-363c-475d-dbe0-e28a91c493a8"
      },
      "execution_count": 13,
      "outputs": [
        {
          "output_type": "stream",
          "name": "stderr",
          "text": [
            "WARNING:matplotlib.legend:No handles with labels found to put in legend.\n"
          ]
        },
        {
          "output_type": "display_data",
          "data": {
            "text/plain": [
              "<Figure size 432x288 with 1 Axes>"
            ],
            "image/png": "[encoded data removed]"
          },
          "metadata": {
            "needs_background": "light"
          }
        }
      ]
    },
    {
      "cell_type": "code",
      "source": [],
      "metadata": {
        "id": "RzHkz9YraHX-"
      },
      "execution_count": 12,
      "outputs": []
    }
  ]
}